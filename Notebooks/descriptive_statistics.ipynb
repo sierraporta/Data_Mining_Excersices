{
 "cells": [
  {
   "cell_type": "markdown",
   "metadata": {},
   "source": [
    "# Descriptive Statistics.\n",
    "\n",
    "Working with dataset: \n",
    "- https://archive.ics.uci.edu/ml/datasets/Vertebral+Column"
   ]
  },
  {
   "cell_type": "code",
   "execution_count": 1,
   "metadata": {},
   "outputs": [],
   "source": [
    "import numpy as np\n",
    "import pandas as pd\n",
    "import matplotlib.pyplot as plt"
   ]
  },
  {
   "cell_type": "markdown",
   "metadata": {},
   "source": [
    "Vamos a ver aquí algunas medidas iniciales para el análisis de datos. El análisis inicial de los datos es muy importante para hacer estimaciones y sacar conclusiones."
   ]
  },
  {
   "cell_type": "code",
   "execution_count": 2,
   "metadata": {},
   "outputs": [],
   "source": [
    "names=[\"pelvic_incidence\",\"pelvic_tilt\",\"lumbar_lordosis_angle\",\"sacral_slope\",\"pelvic_radius\",\"degree_spondylolisthesis\",\"class\"]\n",
    "data=pd.read_csv(\"../Datas/VertebralColumn/column_2C.dat\",delimiter=\"\\s+\",names=names)"
   ]
  },
  {
   "cell_type": "code",
   "execution_count": 3,
   "metadata": {},
   "outputs": [
    {
     "data": {
      "text/html": [
       "<div>\n",
       "<style scoped>\n",
       "    .dataframe tbody tr th:only-of-type {\n",
       "        vertical-align: middle;\n",
       "    }\n",
       "\n",
       "    .dataframe tbody tr th {\n",
       "        vertical-align: top;\n",
       "    }\n",
       "\n",
       "    .dataframe thead th {\n",
       "        text-align: right;\n",
       "    }\n",
       "</style>\n",
       "<table border=\"1\" class=\"dataframe\">\n",
       "  <thead>\n",
       "    <tr style=\"text-align: right;\">\n",
       "      <th></th>\n",
       "      <th>pelvic_incidence</th>\n",
       "      <th>pelvic_tilt</th>\n",
       "      <th>lumbar_lordosis_angle</th>\n",
       "      <th>sacral_slope</th>\n",
       "      <th>pelvic_radius</th>\n",
       "      <th>degree_spondylolisthesis</th>\n",
       "      <th>class</th>\n",
       "    </tr>\n",
       "  </thead>\n",
       "  <tbody>\n",
       "    <tr>\n",
       "      <th>0</th>\n",
       "      <td>63.03</td>\n",
       "      <td>22.55</td>\n",
       "      <td>39.61</td>\n",
       "      <td>40.48</td>\n",
       "      <td>98.67</td>\n",
       "      <td>-0.25</td>\n",
       "      <td>AB</td>\n",
       "    </tr>\n",
       "    <tr>\n",
       "      <th>1</th>\n",
       "      <td>39.06</td>\n",
       "      <td>10.06</td>\n",
       "      <td>25.02</td>\n",
       "      <td>29.00</td>\n",
       "      <td>114.41</td>\n",
       "      <td>4.56</td>\n",
       "      <td>AB</td>\n",
       "    </tr>\n",
       "    <tr>\n",
       "      <th>2</th>\n",
       "      <td>68.83</td>\n",
       "      <td>22.22</td>\n",
       "      <td>50.09</td>\n",
       "      <td>46.61</td>\n",
       "      <td>105.99</td>\n",
       "      <td>-3.53</td>\n",
       "      <td>AB</td>\n",
       "    </tr>\n",
       "    <tr>\n",
       "      <th>3</th>\n",
       "      <td>69.30</td>\n",
       "      <td>24.65</td>\n",
       "      <td>44.31</td>\n",
       "      <td>44.64</td>\n",
       "      <td>101.87</td>\n",
       "      <td>11.21</td>\n",
       "      <td>AB</td>\n",
       "    </tr>\n",
       "    <tr>\n",
       "      <th>4</th>\n",
       "      <td>49.71</td>\n",
       "      <td>9.65</td>\n",
       "      <td>28.32</td>\n",
       "      <td>40.06</td>\n",
       "      <td>108.17</td>\n",
       "      <td>7.92</td>\n",
       "      <td>AB</td>\n",
       "    </tr>\n",
       "    <tr>\n",
       "      <th>...</th>\n",
       "      <td>...</td>\n",
       "      <td>...</td>\n",
       "      <td>...</td>\n",
       "      <td>...</td>\n",
       "      <td>...</td>\n",
       "      <td>...</td>\n",
       "      <td>...</td>\n",
       "    </tr>\n",
       "    <tr>\n",
       "      <th>305</th>\n",
       "      <td>47.90</td>\n",
       "      <td>13.62</td>\n",
       "      <td>36.00</td>\n",
       "      <td>34.29</td>\n",
       "      <td>117.45</td>\n",
       "      <td>-4.25</td>\n",
       "      <td>NO</td>\n",
       "    </tr>\n",
       "    <tr>\n",
       "      <th>306</th>\n",
       "      <td>53.94</td>\n",
       "      <td>20.72</td>\n",
       "      <td>29.22</td>\n",
       "      <td>33.22</td>\n",
       "      <td>114.37</td>\n",
       "      <td>-0.42</td>\n",
       "      <td>NO</td>\n",
       "    </tr>\n",
       "    <tr>\n",
       "      <th>307</th>\n",
       "      <td>61.45</td>\n",
       "      <td>22.69</td>\n",
       "      <td>46.17</td>\n",
       "      <td>38.75</td>\n",
       "      <td>125.67</td>\n",
       "      <td>-2.71</td>\n",
       "      <td>NO</td>\n",
       "    </tr>\n",
       "    <tr>\n",
       "      <th>308</th>\n",
       "      <td>45.25</td>\n",
       "      <td>8.69</td>\n",
       "      <td>41.58</td>\n",
       "      <td>36.56</td>\n",
       "      <td>118.55</td>\n",
       "      <td>0.21</td>\n",
       "      <td>NO</td>\n",
       "    </tr>\n",
       "    <tr>\n",
       "      <th>309</th>\n",
       "      <td>33.84</td>\n",
       "      <td>5.07</td>\n",
       "      <td>36.64</td>\n",
       "      <td>28.77</td>\n",
       "      <td>123.95</td>\n",
       "      <td>-0.20</td>\n",
       "      <td>NO</td>\n",
       "    </tr>\n",
       "  </tbody>\n",
       "</table>\n",
       "<p>310 rows × 7 columns</p>\n",
       "</div>"
      ],
      "text/plain": [
       "     pelvic_incidence  pelvic_tilt  lumbar_lordosis_angle  sacral_slope  \\\n",
       "0               63.03        22.55                  39.61         40.48   \n",
       "1               39.06        10.06                  25.02         29.00   \n",
       "2               68.83        22.22                  50.09         46.61   \n",
       "3               69.30        24.65                  44.31         44.64   \n",
       "4               49.71         9.65                  28.32         40.06   \n",
       "..                ...          ...                    ...           ...   \n",
       "305             47.90        13.62                  36.00         34.29   \n",
       "306             53.94        20.72                  29.22         33.22   \n",
       "307             61.45        22.69                  46.17         38.75   \n",
       "308             45.25         8.69                  41.58         36.56   \n",
       "309             33.84         5.07                  36.64         28.77   \n",
       "\n",
       "     pelvic_radius  degree_spondylolisthesis class  \n",
       "0            98.67                     -0.25    AB  \n",
       "1           114.41                      4.56    AB  \n",
       "2           105.99                     -3.53    AB  \n",
       "3           101.87                     11.21    AB  \n",
       "4           108.17                      7.92    AB  \n",
       "..             ...                       ...   ...  \n",
       "305         117.45                     -4.25    NO  \n",
       "306         114.37                     -0.42    NO  \n",
       "307         125.67                     -2.71    NO  \n",
       "308         118.55                      0.21    NO  \n",
       "309         123.95                     -0.20    NO  \n",
       "\n",
       "[310 rows x 7 columns]"
      ]
     },
     "execution_count": 3,
     "metadata": {},
     "output_type": "execute_result"
    }
   ],
   "source": [
    "data"
   ]
  },
  {
   "cell_type": "markdown",
   "metadata": {},
   "source": [
    "Podemos hacer primero una visión general de nuestros datos para entender cual es el compotamiento de las variables que tenemos en el estudio. Esto podemos hacerlo muy fácilmente con Python usando una librería de pandas y usando algunos de los algoritmos y funciones predefinidas."
   ]
  },
  {
   "cell_type": "code",
   "execution_count": 4,
   "metadata": {},
   "outputs": [
    {
     "name": "stdout",
     "output_type": "stream",
     "text": [
      "El número de variables es N_var = 7\n",
      "El número de casos o instancias (o individuos estudiados) es N = 310\n"
     ]
    }
   ],
   "source": [
    "print(\"El número de variables es N_var =\",len(data.columns))\n",
    "print(\"El número de casos o instancias (o individuos estudiados) es N =\",len(data))"
   ]
  },
  {
   "cell_type": "markdown",
   "metadata": {},
   "source": [
    "Algunos estdísticos comunes y usuales. Por ejemplo podemos calcular la media, mediana y moda, así como también las desviaciones estándar y varianzas para cada una de las 7 variables.\n",
    "\n",
    "- Media (Promedio): \n",
    "\\begin{equation}\n",
    "\\bar x=\\frac{1}{N}\\sum_{i=0}^{N-1}x_i\n",
    "\\end{equation}\n",
    "- Mediana (Cuartil 50): Con datos ordenados en orden ascendente:\n",
    "\\begin{equation}\n",
    "median=\\left\\{\\begin{matrix}\n",
    "x\\left[\\frac{N}{2}\\right] &  \\mbox{si $N$ es par}\\\\\n",
    "\\frac{1}{2}\\left(x\\left[\\frac{N-1}{2}\\right]+x\\left[\\frac{N+1}{2}\\right]\\right) &  \\mbox{si $N$ es impar}\\\\\n",
    "\\end{matrix}\\right.\n",
    "\\end{equation}\n",
    "- Moda (dato con mayor frecuencia)\n",
    "- varianza:\n",
    "\\begin{equation}\n",
    "s^2(x)=\\mbox{Var}(x)=\\frac{1}{N}\\sum_{i=0}^{N-1}(x_i-\\bar x)^2\n",
    "\\end{equation}\n",
    "- Desviación estándar:\n",
    "\\begin{equation}\n",
    "\\sigma_x=s(x)=\\sqrt{\\mbox{Var}(x)}=\\sqrt{\\frac{1}{N}\\sum_{i=0}^{N-1}(x_i-\\bar x)^2}\n",
    "\\end{equation}\n"
   ]
  },
  {
   "cell_type": "code",
   "execution_count": 5,
   "metadata": {},
   "outputs": [],
   "source": [
    "def average(var):\n",
    "    return np.sum(var)/len(var)\n",
    "def median(var):\n",
    "    var_ord=np.sort(var)\n",
    "    N=len(var_ord)\n",
    "    if N%2==0:\n",
    "        median=var_ord[N//2]\n",
    "    if N%2!=0:\n",
    "        median=(var_ord[(N-1)//2]+var_ord[(N+1)//2])/2\n",
    "    return median\n",
    "def mode(var):\n",
    "    dat,frec=np.unique(var,return_counts=True)\n",
    "    if len(dat[frec==frec.max()])>1:\n",
    "        print(\"Existen varias modas (la variable es multimodal)\")\n",
    "    if len(dat[frec==frec.max()])==1:\n",
    "        print(\"Existe una moda (la variable es unimodal)\")\n",
    "    return dat[frec==frec.max()]"
   ]
  },
  {
   "cell_type": "code",
   "execution_count": 6,
   "metadata": {},
   "outputs": [],
   "source": [
    "def variance(var):\n",
    "    return np.sum((var-average(var))**2)/len(var)\n",
    "def std(var):\n",
    "    return np.sqrt(variance(var))"
   ]
  },
  {
   "cell_type": "code",
   "execution_count": 7,
   "metadata": {},
   "outputs": [
    {
     "name": "stdout",
     "output_type": "stream",
     "text": [
      "Para la variable pelvic_incidence el promedio (la media) es <pelvic_incidence> = 60.49648387096773\n",
      "Para la variable pelvic_tilt el promedio (la media) es <pelvic_tilt> = 17.542903225806448\n",
      "Para la variable lumbar_lordosis_angle el promedio (la media) es <lumbar_lordosis_angle> = 51.93070967741936\n",
      "Para la variable sacral_slope el promedio (la media) es <sacral_slope> = 42.953870967741935\n",
      "Para la variable pelvic_radius el promedio (la media) es <pelvic_radius> = 117.92054838709676\n",
      "Para la variable degree_spondylolisthesis el promedio (la media) es <degree_spondylolisthesis> = 26.296741935483873\n"
     ]
    }
   ],
   "source": [
    "for i in data.columns[:-1]:\n",
    "    print(\"Para la variable \"+str(i),\"el promedio (la media) es <{}> =\".format(str(i)),average(data[i]))"
   ]
  },
  {
   "cell_type": "code",
   "execution_count": 8,
   "metadata": {},
   "outputs": [
    {
     "name": "stdout",
     "output_type": "stream",
     "text": [
      "Para la variable pelvic_incidence la mediana es med(pelvic_incidence) = 58.78\n",
      "Para la variable pelvic_tilt la mediana es med(pelvic_tilt) = 16.42\n",
      "Para la variable lumbar_lordosis_angle la mediana es med(lumbar_lordosis_angle) = 49.78\n",
      "Para la variable sacral_slope la mediana es med(sacral_slope) = 42.44\n",
      "Para la variable pelvic_radius la mediana es med(pelvic_radius) = 118.34\n",
      "Para la variable degree_spondylolisthesis la mediana es med(degree_spondylolisthesis) = 12.07\n"
     ]
    }
   ],
   "source": [
    "for i in data.columns[:-1]:\n",
    "    print(\"Para la variable \"+str(i),\"la mediana es med({}) =\".format(str(i)),median(data[i]))"
   ]
  },
  {
   "cell_type": "code",
   "execution_count": 9,
   "metadata": {},
   "outputs": [
    {
     "name": "stdout",
     "output_type": "stream",
     "text": [
      "Existen varias modas (la variable es multimodal)\n",
      "Para la variable pelvic_incidence la moda es moda(pelvic_incidence) = [42.52 49.71 50.91 53.94 54.92 63.03 65.01 65.76 74.72]\n",
      "Existen varias modas (la variable es multimodal)\n",
      "Para la variable pelvic_tilt la moda es moda(pelvic_tilt) = [ 5.27  8.4  10.06 10.22 10.76 13.11 13.28 13.92 14.38 15.4  16.42 16.74\n",
      " 17.44 19.44 21.12 23.08 26.33 33.28 37.52]\n",
      "Existen varias modas (la variable es multimodal)\n",
      "Para la variable lumbar_lordosis_angle la moda es moda(lumbar_lordosis_angle) = [35. 42. 47. 52. 58.]\n",
      "Existe una moda (la variable es unimodal)\n",
      "Para la variable sacral_slope la moda es moda(sacral_slope) = [56.31]\n",
      "Existen varias modas (la variable es multimodal)\n",
      "Para la variable pelvic_radius la moda es moda(pelvic_radius) = [110.71 116.56 116.59 116.8  117.98 119.32 129.39]\n",
      "Existen varias modas (la variable es multimodal)\n",
      "Para la variable degree_spondylolisthesis la moda es moda(degree_spondylolisthesis) = [-4.08 -2.01  1.01  3.09  4.96]\n"
     ]
    }
   ],
   "source": [
    "for i in data.columns[:-1]:\n",
    "    print(\"Para la variable \"+str(i),\"la moda es moda({}) =\".format(str(i)),mode(data[i]))"
   ]
  },
  {
   "cell_type": "code",
   "execution_count": 10,
   "metadata": {},
   "outputs": [
    {
     "name": "stdout",
     "output_type": "stream",
     "text": [
      "Para la variable pelvic_incidence la varianza es Var(pelvic_incidence) = 296.12512021748176\n",
      "Para la variable pelvic_tilt la varianza es Var(pelvic_tilt) = 99.83976124869929\n",
      "Para la variable lumbar_lordosis_angle la varianza es Var(lumbar_lordosis_angle) = 343.13176723829343\n",
      "Para la variable sacral_slope la varianza es Var(sacral_slope) = 179.5889740478668\n",
      "Para la variable pelvic_radius la varianza es Var(pelvic_radius) = 176.7871277637877\n",
      "Para la variable degree_spondylolisthesis la varianza es Var(degree_spondylolisthesis) = 1406.119148417274\n"
     ]
    }
   ],
   "source": [
    "for i in data.columns[:-1]:\n",
    "    print(\"Para la variable \"+str(i),\"la varianza es Var({}) =\".format(str(i)),variance(data[i]))"
   ]
  },
  {
   "cell_type": "code",
   "execution_count": 11,
   "metadata": {},
   "outputs": [
    {
     "name": "stdout",
     "output_type": "stream",
     "text": [
      "Para la variable pelvic_incidence la desviación estándar es STD(pelvic_incidence) = 17.208286382364797\n",
      "Para la variable pelvic_tilt la desviación estándar es STD(pelvic_tilt) = 9.991984850303732\n",
      "Para la variable lumbar_lordosis_angle la desviación estándar es STD(lumbar_lordosis_angle) = 18.523816216921755\n",
      "Para la variable sacral_slope la desviación estándar es STD(sacral_slope) = 13.401081077579779\n",
      "Para la variable pelvic_radius la desviación estándar es STD(pelvic_radius) = 13.296132060256761\n",
      "Para la variable degree_spondylolisthesis la desviación estándar es STD(degree_spondylolisthesis) = 37.49825527164263\n"
     ]
    }
   ],
   "source": [
    "for i in data.columns[:-1]:\n",
    "    print(\"Para la variable \"+str(i),\"la desviación estándar es STD({}) =\".format(str(i)),std(data[i]))"
   ]
  },
  {
   "cell_type": "markdown",
   "metadata": {},
   "source": [
    "También podemos usar una función de Pandas que reune algunos estadísticos básicos:"
   ]
  },
  {
   "cell_type": "code",
   "execution_count": 12,
   "metadata": {},
   "outputs": [],
   "source": [
    "vertebral_stats=data.describe().T"
   ]
  },
  {
   "cell_type": "code",
   "execution_count": 13,
   "metadata": {},
   "outputs": [
    {
     "data": {
      "text/html": [
       "<div>\n",
       "<style scoped>\n",
       "    .dataframe tbody tr th:only-of-type {\n",
       "        vertical-align: middle;\n",
       "    }\n",
       "\n",
       "    .dataframe tbody tr th {\n",
       "        vertical-align: top;\n",
       "    }\n",
       "\n",
       "    .dataframe thead th {\n",
       "        text-align: right;\n",
       "    }\n",
       "</style>\n",
       "<table border=\"1\" class=\"dataframe\">\n",
       "  <thead>\n",
       "    <tr style=\"text-align: right;\">\n",
       "      <th></th>\n",
       "      <th>count</th>\n",
       "      <th>mean</th>\n",
       "      <th>std</th>\n",
       "      <th>min</th>\n",
       "      <th>25%</th>\n",
       "      <th>50%</th>\n",
       "      <th>75%</th>\n",
       "      <th>max</th>\n",
       "    </tr>\n",
       "  </thead>\n",
       "  <tbody>\n",
       "    <tr>\n",
       "      <th>pelvic_incidence</th>\n",
       "      <td>310.0</td>\n",
       "      <td>60.496484</td>\n",
       "      <td>17.236109</td>\n",
       "      <td>26.15</td>\n",
       "      <td>46.4325</td>\n",
       "      <td>58.690</td>\n",
       "      <td>72.8800</td>\n",
       "      <td>129.83</td>\n",
       "    </tr>\n",
       "    <tr>\n",
       "      <th>pelvic_tilt</th>\n",
       "      <td>310.0</td>\n",
       "      <td>17.542903</td>\n",
       "      <td>10.008140</td>\n",
       "      <td>-6.55</td>\n",
       "      <td>10.6675</td>\n",
       "      <td>16.360</td>\n",
       "      <td>22.1200</td>\n",
       "      <td>49.43</td>\n",
       "    </tr>\n",
       "    <tr>\n",
       "      <th>lumbar_lordosis_angle</th>\n",
       "      <td>310.0</td>\n",
       "      <td>51.930710</td>\n",
       "      <td>18.553766</td>\n",
       "      <td>14.00</td>\n",
       "      <td>37.0000</td>\n",
       "      <td>49.565</td>\n",
       "      <td>63.0000</td>\n",
       "      <td>125.74</td>\n",
       "    </tr>\n",
       "    <tr>\n",
       "      <th>sacral_slope</th>\n",
       "      <td>310.0</td>\n",
       "      <td>42.953871</td>\n",
       "      <td>13.422748</td>\n",
       "      <td>13.37</td>\n",
       "      <td>33.3475</td>\n",
       "      <td>42.405</td>\n",
       "      <td>52.6925</td>\n",
       "      <td>121.43</td>\n",
       "    </tr>\n",
       "    <tr>\n",
       "      <th>pelvic_radius</th>\n",
       "      <td>310.0</td>\n",
       "      <td>117.920548</td>\n",
       "      <td>13.317629</td>\n",
       "      <td>70.08</td>\n",
       "      <td>110.7100</td>\n",
       "      <td>118.265</td>\n",
       "      <td>125.4675</td>\n",
       "      <td>163.07</td>\n",
       "    </tr>\n",
       "    <tr>\n",
       "      <th>degree_spondylolisthesis</th>\n",
       "      <td>310.0</td>\n",
       "      <td>26.296742</td>\n",
       "      <td>37.558883</td>\n",
       "      <td>-11.06</td>\n",
       "      <td>1.6000</td>\n",
       "      <td>11.765</td>\n",
       "      <td>41.2850</td>\n",
       "      <td>418.54</td>\n",
       "    </tr>\n",
       "  </tbody>\n",
       "</table>\n",
       "</div>"
      ],
      "text/plain": [
       "                          count        mean        std    min       25%  \\\n",
       "pelvic_incidence          310.0   60.496484  17.236109  26.15   46.4325   \n",
       "pelvic_tilt               310.0   17.542903  10.008140  -6.55   10.6675   \n",
       "lumbar_lordosis_angle     310.0   51.930710  18.553766  14.00   37.0000   \n",
       "sacral_slope              310.0   42.953871  13.422748  13.37   33.3475   \n",
       "pelvic_radius             310.0  117.920548  13.317629  70.08  110.7100   \n",
       "degree_spondylolisthesis  310.0   26.296742  37.558883 -11.06    1.6000   \n",
       "\n",
       "                              50%       75%     max  \n",
       "pelvic_incidence           58.690   72.8800  129.83  \n",
       "pelvic_tilt                16.360   22.1200   49.43  \n",
       "lumbar_lordosis_angle      49.565   63.0000  125.74  \n",
       "sacral_slope               42.405   52.6925  121.43  \n",
       "pelvic_radius             118.265  125.4675  163.07  \n",
       "degree_spondylolisthesis   11.765   41.2850  418.54  "
      ]
     },
     "execution_count": 13,
     "metadata": {},
     "output_type": "execute_result"
    }
   ],
   "source": [
    "vertebral_stats"
   ]
  },
  {
   "cell_type": "markdown",
   "metadata": {},
   "source": [
    "también podemos usar las funciones que están predefinidas en Python para estas tareas:"
   ]
  },
  {
   "cell_type": "code",
   "execution_count": 14,
   "metadata": {},
   "outputs": [
    {
     "name": "stdout",
     "output_type": "stream",
     "text": [
      "Index(['pelvic_incidence', 'pelvic_tilt', 'lumbar_lordosis_angle',\n",
      "       'sacral_slope', 'pelvic_radius', 'degree_spondylolisthesis', 'class'],\n",
      "      dtype='object')\n",
      "media = pelvic_incidence             60.496484\n",
      "pelvic_tilt                  17.542903\n",
      "lumbar_lordosis_angle        51.930710\n",
      "sacral_slope                 42.953871\n",
      "pelvic_radius               117.920548\n",
      "degree_spondylolisthesis     26.296742\n",
      "dtype: float64\n",
      "median = [ 58.69   16.36   49.565  42.405 118.265  11.765]\n",
      "varianza = pelvic_incidence             296.125120\n",
      "pelvic_tilt                   99.839761\n",
      "lumbar_lordosis_angle        343.131767\n",
      "sacral_slope                 179.588974\n",
      "pelvic_radius                176.787128\n",
      "degree_spondylolisthesis    1406.119148\n",
      "dtype: float64\n",
      "desviación estándar = pelvic_incidence            17.208286\n",
      "pelvic_tilt                  9.991985\n",
      "lumbar_lordosis_angle       18.523816\n",
      "sacral_slope                13.401081\n",
      "pelvic_radius               13.296132\n",
      "degree_spondylolisthesis    37.498255\n",
      "dtype: float64\n",
      "skewness = [ 0.51786409  0.67329913  0.5964695   0.78883655 -0.17607403  4.29696644]\n",
      "kurtosis = [ 0.2006561   0.64597047  0.13977901  2.94050906  0.90035703 37.4374569 ]\n"
     ]
    }
   ],
   "source": [
    "import scipy.stats as st\n",
    "# La mediana puede ser también calculada, así como el coeficiente de asimetría y curtosis respectivamente\n",
    "print(data.columns)\n",
    "print(\"media =\",np.mean(data.loc[:, data.columns != 'class'],axis=0))\n",
    "print(\"median =\",np.median(data.loc[:, data.columns != 'class'],axis=0))\n",
    "print(\"varianza =\",np.var(data.loc[:, data.columns != 'class'],axis=0))\n",
    "print(\"desviación estándar =\",np.std(data.loc[:, data.columns != 'class'],axis=0))\n",
    "print(\"skewness =\",st.skew(data.loc[:, data.columns != 'class'],axis=0))\n",
    "print(\"kurtosis =\",st.kurtosis(data.loc[:, data.columns != 'class'],axis=0))"
   ]
  },
  {
   "cell_type": "code",
   "execution_count": 15,
   "metadata": {},
   "outputs": [],
   "source": [
    "vertebral_stats[\"median\"]=np.median(data.loc[:, data.columns != 'class'],axis=0)\n",
    "vertebral_stats[\"skewness\"]=st.skew(data.loc[:, data.columns != 'class'],axis=0)\n",
    "vertebral_stats[\"kurtosis\"]=st.kurtosis(data.loc[:, data.columns != 'class'],axis=0)"
   ]
  },
  {
   "cell_type": "code",
   "execution_count": 16,
   "metadata": {},
   "outputs": [
    {
     "data": {
      "text/html": [
       "<div>\n",
       "<style scoped>\n",
       "    .dataframe tbody tr th:only-of-type {\n",
       "        vertical-align: middle;\n",
       "    }\n",
       "\n",
       "    .dataframe tbody tr th {\n",
       "        vertical-align: top;\n",
       "    }\n",
       "\n",
       "    .dataframe thead th {\n",
       "        text-align: right;\n",
       "    }\n",
       "</style>\n",
       "<table border=\"1\" class=\"dataframe\">\n",
       "  <thead>\n",
       "    <tr style=\"text-align: right;\">\n",
       "      <th></th>\n",
       "      <th>count</th>\n",
       "      <th>mean</th>\n",
       "      <th>std</th>\n",
       "      <th>min</th>\n",
       "      <th>25%</th>\n",
       "      <th>50%</th>\n",
       "      <th>75%</th>\n",
       "      <th>max</th>\n",
       "      <th>median</th>\n",
       "      <th>skewness</th>\n",
       "      <th>kurtosis</th>\n",
       "    </tr>\n",
       "  </thead>\n",
       "  <tbody>\n",
       "    <tr>\n",
       "      <th>pelvic_incidence</th>\n",
       "      <td>310.0</td>\n",
       "      <td>60.496484</td>\n",
       "      <td>17.236109</td>\n",
       "      <td>26.15</td>\n",
       "      <td>46.4325</td>\n",
       "      <td>58.690</td>\n",
       "      <td>72.8800</td>\n",
       "      <td>129.83</td>\n",
       "      <td>58.690</td>\n",
       "      <td>0.517864</td>\n",
       "      <td>0.200656</td>\n",
       "    </tr>\n",
       "    <tr>\n",
       "      <th>pelvic_tilt</th>\n",
       "      <td>310.0</td>\n",
       "      <td>17.542903</td>\n",
       "      <td>10.008140</td>\n",
       "      <td>-6.55</td>\n",
       "      <td>10.6675</td>\n",
       "      <td>16.360</td>\n",
       "      <td>22.1200</td>\n",
       "      <td>49.43</td>\n",
       "      <td>16.360</td>\n",
       "      <td>0.673299</td>\n",
       "      <td>0.645970</td>\n",
       "    </tr>\n",
       "    <tr>\n",
       "      <th>lumbar_lordosis_angle</th>\n",
       "      <td>310.0</td>\n",
       "      <td>51.930710</td>\n",
       "      <td>18.553766</td>\n",
       "      <td>14.00</td>\n",
       "      <td>37.0000</td>\n",
       "      <td>49.565</td>\n",
       "      <td>63.0000</td>\n",
       "      <td>125.74</td>\n",
       "      <td>49.565</td>\n",
       "      <td>0.596469</td>\n",
       "      <td>0.139779</td>\n",
       "    </tr>\n",
       "    <tr>\n",
       "      <th>sacral_slope</th>\n",
       "      <td>310.0</td>\n",
       "      <td>42.953871</td>\n",
       "      <td>13.422748</td>\n",
       "      <td>13.37</td>\n",
       "      <td>33.3475</td>\n",
       "      <td>42.405</td>\n",
       "      <td>52.6925</td>\n",
       "      <td>121.43</td>\n",
       "      <td>42.405</td>\n",
       "      <td>0.788837</td>\n",
       "      <td>2.940509</td>\n",
       "    </tr>\n",
       "    <tr>\n",
       "      <th>pelvic_radius</th>\n",
       "      <td>310.0</td>\n",
       "      <td>117.920548</td>\n",
       "      <td>13.317629</td>\n",
       "      <td>70.08</td>\n",
       "      <td>110.7100</td>\n",
       "      <td>118.265</td>\n",
       "      <td>125.4675</td>\n",
       "      <td>163.07</td>\n",
       "      <td>118.265</td>\n",
       "      <td>-0.176074</td>\n",
       "      <td>0.900357</td>\n",
       "    </tr>\n",
       "    <tr>\n",
       "      <th>degree_spondylolisthesis</th>\n",
       "      <td>310.0</td>\n",
       "      <td>26.296742</td>\n",
       "      <td>37.558883</td>\n",
       "      <td>-11.06</td>\n",
       "      <td>1.6000</td>\n",
       "      <td>11.765</td>\n",
       "      <td>41.2850</td>\n",
       "      <td>418.54</td>\n",
       "      <td>11.765</td>\n",
       "      <td>4.296966</td>\n",
       "      <td>37.437457</td>\n",
       "    </tr>\n",
       "  </tbody>\n",
       "</table>\n",
       "</div>"
      ],
      "text/plain": [
       "                          count        mean        std    min       25%  \\\n",
       "pelvic_incidence          310.0   60.496484  17.236109  26.15   46.4325   \n",
       "pelvic_tilt               310.0   17.542903  10.008140  -6.55   10.6675   \n",
       "lumbar_lordosis_angle     310.0   51.930710  18.553766  14.00   37.0000   \n",
       "sacral_slope              310.0   42.953871  13.422748  13.37   33.3475   \n",
       "pelvic_radius             310.0  117.920548  13.317629  70.08  110.7100   \n",
       "degree_spondylolisthesis  310.0   26.296742  37.558883 -11.06    1.6000   \n",
       "\n",
       "                              50%       75%     max   median  skewness  \\\n",
       "pelvic_incidence           58.690   72.8800  129.83   58.690  0.517864   \n",
       "pelvic_tilt                16.360   22.1200   49.43   16.360  0.673299   \n",
       "lumbar_lordosis_angle      49.565   63.0000  125.74   49.565  0.596469   \n",
       "sacral_slope               42.405   52.6925  121.43   42.405  0.788837   \n",
       "pelvic_radius             118.265  125.4675  163.07  118.265 -0.176074   \n",
       "degree_spondylolisthesis   11.765   41.2850  418.54   11.765  4.296966   \n",
       "\n",
       "                           kurtosis  \n",
       "pelvic_incidence           0.200656  \n",
       "pelvic_tilt                0.645970  \n",
       "lumbar_lordosis_angle      0.139779  \n",
       "sacral_slope               2.940509  \n",
       "pelvic_radius              0.900357  \n",
       "degree_spondylolisthesis  37.437457  "
      ]
     },
     "execution_count": 16,
     "metadata": {},
     "output_type": "execute_result"
    }
   ],
   "source": [
    "vertebral_stats"
   ]
  },
  {
   "cell_type": "code",
   "execution_count": 17,
   "metadata": {},
   "outputs": [],
   "source": [
    "vertebral_stats[\"LII\"]=vertebral_stats[\"25%\"]-((vertebral_stats[\"75%\"]-vertebral_stats[\"25%\"])*1.5)\n",
    "vertebral_stats[\"LIS\"]=vertebral_stats[\"75%\"]+((vertebral_stats[\"75%\"]-vertebral_stats[\"25%\"])*1.5)\n",
    "vertebral_stats[\"LEI\"]=vertebral_stats[\"25%\"]-((vertebral_stats[\"75%\"]-vertebral_stats[\"25%\"])*3.0)\n",
    "vertebral_stats[\"LES\"]=vertebral_stats[\"75%\"]+((vertebral_stats[\"75%\"]-vertebral_stats[\"25%\"])*3.0)"
   ]
  },
  {
   "cell_type": "code",
   "execution_count": 18,
   "metadata": {},
   "outputs": [
    {
     "data": {
      "text/html": [
       "<div>\n",
       "<style scoped>\n",
       "    .dataframe tbody tr th:only-of-type {\n",
       "        vertical-align: middle;\n",
       "    }\n",
       "\n",
       "    .dataframe tbody tr th {\n",
       "        vertical-align: top;\n",
       "    }\n",
       "\n",
       "    .dataframe thead th {\n",
       "        text-align: right;\n",
       "    }\n",
       "</style>\n",
       "<table border=\"1\" class=\"dataframe\">\n",
       "  <thead>\n",
       "    <tr style=\"text-align: right;\">\n",
       "      <th></th>\n",
       "      <th>count</th>\n",
       "      <th>mean</th>\n",
       "      <th>std</th>\n",
       "      <th>min</th>\n",
       "      <th>25%</th>\n",
       "      <th>50%</th>\n",
       "      <th>75%</th>\n",
       "      <th>max</th>\n",
       "      <th>median</th>\n",
       "      <th>skewness</th>\n",
       "      <th>kurtosis</th>\n",
       "      <th>LII</th>\n",
       "      <th>LIS</th>\n",
       "      <th>LEI</th>\n",
       "      <th>LES</th>\n",
       "    </tr>\n",
       "  </thead>\n",
       "  <tbody>\n",
       "    <tr>\n",
       "      <th>pelvic_incidence</th>\n",
       "      <td>310.0</td>\n",
       "      <td>60.496484</td>\n",
       "      <td>17.236109</td>\n",
       "      <td>26.15</td>\n",
       "      <td>46.4325</td>\n",
       "      <td>58.690</td>\n",
       "      <td>72.8800</td>\n",
       "      <td>129.83</td>\n",
       "      <td>58.690</td>\n",
       "      <td>0.517864</td>\n",
       "      <td>0.200656</td>\n",
       "      <td>6.76125</td>\n",
       "      <td>112.55125</td>\n",
       "      <td>-32.9100</td>\n",
       "      <td>152.2225</td>\n",
       "    </tr>\n",
       "    <tr>\n",
       "      <th>pelvic_tilt</th>\n",
       "      <td>310.0</td>\n",
       "      <td>17.542903</td>\n",
       "      <td>10.008140</td>\n",
       "      <td>-6.55</td>\n",
       "      <td>10.6675</td>\n",
       "      <td>16.360</td>\n",
       "      <td>22.1200</td>\n",
       "      <td>49.43</td>\n",
       "      <td>16.360</td>\n",
       "      <td>0.673299</td>\n",
       "      <td>0.645970</td>\n",
       "      <td>-6.51125</td>\n",
       "      <td>39.29875</td>\n",
       "      <td>-23.6900</td>\n",
       "      <td>56.4775</td>\n",
       "    </tr>\n",
       "    <tr>\n",
       "      <th>lumbar_lordosis_angle</th>\n",
       "      <td>310.0</td>\n",
       "      <td>51.930710</td>\n",
       "      <td>18.553766</td>\n",
       "      <td>14.00</td>\n",
       "      <td>37.0000</td>\n",
       "      <td>49.565</td>\n",
       "      <td>63.0000</td>\n",
       "      <td>125.74</td>\n",
       "      <td>49.565</td>\n",
       "      <td>0.596469</td>\n",
       "      <td>0.139779</td>\n",
       "      <td>-2.00000</td>\n",
       "      <td>102.00000</td>\n",
       "      <td>-41.0000</td>\n",
       "      <td>141.0000</td>\n",
       "    </tr>\n",
       "    <tr>\n",
       "      <th>sacral_slope</th>\n",
       "      <td>310.0</td>\n",
       "      <td>42.953871</td>\n",
       "      <td>13.422748</td>\n",
       "      <td>13.37</td>\n",
       "      <td>33.3475</td>\n",
       "      <td>42.405</td>\n",
       "      <td>52.6925</td>\n",
       "      <td>121.43</td>\n",
       "      <td>42.405</td>\n",
       "      <td>0.788837</td>\n",
       "      <td>2.940509</td>\n",
       "      <td>4.33000</td>\n",
       "      <td>81.71000</td>\n",
       "      <td>-24.6875</td>\n",
       "      <td>110.7275</td>\n",
       "    </tr>\n",
       "    <tr>\n",
       "      <th>pelvic_radius</th>\n",
       "      <td>310.0</td>\n",
       "      <td>117.920548</td>\n",
       "      <td>13.317629</td>\n",
       "      <td>70.08</td>\n",
       "      <td>110.7100</td>\n",
       "      <td>118.265</td>\n",
       "      <td>125.4675</td>\n",
       "      <td>163.07</td>\n",
       "      <td>118.265</td>\n",
       "      <td>-0.176074</td>\n",
       "      <td>0.900357</td>\n",
       "      <td>88.57375</td>\n",
       "      <td>147.60375</td>\n",
       "      <td>66.4375</td>\n",
       "      <td>169.7400</td>\n",
       "    </tr>\n",
       "    <tr>\n",
       "      <th>degree_spondylolisthesis</th>\n",
       "      <td>310.0</td>\n",
       "      <td>26.296742</td>\n",
       "      <td>37.558883</td>\n",
       "      <td>-11.06</td>\n",
       "      <td>1.6000</td>\n",
       "      <td>11.765</td>\n",
       "      <td>41.2850</td>\n",
       "      <td>418.54</td>\n",
       "      <td>11.765</td>\n",
       "      <td>4.296966</td>\n",
       "      <td>37.437457</td>\n",
       "      <td>-57.92750</td>\n",
       "      <td>100.81250</td>\n",
       "      <td>-117.4550</td>\n",
       "      <td>160.3400</td>\n",
       "    </tr>\n",
       "  </tbody>\n",
       "</table>\n",
       "</div>"
      ],
      "text/plain": [
       "                          count        mean        std    min       25%  \\\n",
       "pelvic_incidence          310.0   60.496484  17.236109  26.15   46.4325   \n",
       "pelvic_tilt               310.0   17.542903  10.008140  -6.55   10.6675   \n",
       "lumbar_lordosis_angle     310.0   51.930710  18.553766  14.00   37.0000   \n",
       "sacral_slope              310.0   42.953871  13.422748  13.37   33.3475   \n",
       "pelvic_radius             310.0  117.920548  13.317629  70.08  110.7100   \n",
       "degree_spondylolisthesis  310.0   26.296742  37.558883 -11.06    1.6000   \n",
       "\n",
       "                              50%       75%     max   median  skewness  \\\n",
       "pelvic_incidence           58.690   72.8800  129.83   58.690  0.517864   \n",
       "pelvic_tilt                16.360   22.1200   49.43   16.360  0.673299   \n",
       "lumbar_lordosis_angle      49.565   63.0000  125.74   49.565  0.596469   \n",
       "sacral_slope               42.405   52.6925  121.43   42.405  0.788837   \n",
       "pelvic_radius             118.265  125.4675  163.07  118.265 -0.176074   \n",
       "degree_spondylolisthesis   11.765   41.2850  418.54   11.765  4.296966   \n",
       "\n",
       "                           kurtosis       LII        LIS       LEI       LES  \n",
       "pelvic_incidence           0.200656   6.76125  112.55125  -32.9100  152.2225  \n",
       "pelvic_tilt                0.645970  -6.51125   39.29875  -23.6900   56.4775  \n",
       "lumbar_lordosis_angle      0.139779  -2.00000  102.00000  -41.0000  141.0000  \n",
       "sacral_slope               2.940509   4.33000   81.71000  -24.6875  110.7275  \n",
       "pelvic_radius              0.900357  88.57375  147.60375   66.4375  169.7400  \n",
       "degree_spondylolisthesis  37.437457 -57.92750  100.81250 -117.4550  160.3400  "
      ]
     },
     "execution_count": 18,
     "metadata": {},
     "output_type": "execute_result"
    }
   ],
   "source": [
    "vertebral_stats"
   ]
  },
  {
   "cell_type": "code",
   "execution_count": 19,
   "metadata": {},
   "outputs": [
    {
     "data": {
      "image/png": "[encoded data removed]",
      "text/plain": [
       "<Figure size 1152x432 with 2 Axes>"
      ]
     },
     "metadata": {
      "needs_background": "light"
     },
     "output_type": "display_data"
    }
   ],
   "source": [
    "plt.figure(figsize=(16,6))\n",
    "plt.subplot(121)\n",
    "plt.hist(data[\"pelvic_incidence\"],label=\"pelvic_incidence\",alpha=0.7,color='b')\n",
    "plt.hist(data[\"pelvic_tilt\"],label=\"pelvic_tilt\",alpha=0.7,color='r')\n",
    "plt.hist(data[\"pelvic_radius\"],label=\"pelvic_radius\",alpha=0.7,color='g')\n",
    "plt.legend(fontsize=14)\n",
    "plt.ylabel(\"Counts\",fontsize=14)\n",
    "plt.xticks(fontsize=14)\n",
    "plt.yticks(fontsize=14)\n",
    "plt.subplot(122)\n",
    "plt.hist(data[\"degree_spondylolisthesis\"],label=\"degree_spondylolisthesis\",alpha=0.7,color='b')\n",
    "plt.hist(data[\"sacral_slope\"],label=\"sacral_slope\",alpha=0.7,color='r')\n",
    "plt.hist(data[\"lumbar_lordosis_angle\"],label=\"lumbar_lordosis_angle\",alpha=0.7,color='g')\n",
    "plt.legend(fontsize=14)\n",
    "plt.ylabel(\"Counts\",fontsize=14)\n",
    "plt.xticks(fontsize=14)\n",
    "plt.yticks(fontsize=14)\n",
    "plt.savefig(\"../../figures/vertebral_hist1.png\",bbox_inches =\"tight\")\n",
    "plt.show()"
   ]
  },
  {
   "cell_type": "code",
   "execution_count": 20,
   "metadata": {},
   "outputs": [
    {
     "name": "stderr",
     "output_type": "stream",
     "text": [
      "No handles with labels found to put in legend.\n"
     ]
    },
    {
     "data": {
      "image/png": "[encoded data removed]",
      "text/plain": [
       "<Figure size 864x432 with 1 Axes>"
      ]
     },
     "metadata": {
      "needs_background": "light"
     },
     "output_type": "display_data"
    }
   ],
   "source": [
    "plt.figure(figsize=(12,6))\n",
    "data.boxplot(grid=True,fontsize=15)\n",
    "plt.legend(fontsize=16)\n",
    "plt.xticks(range(1,7),np.array([\"pelvic \\n incidence\",\"pelvic \\n tilt\",\"lumbar \\n lordosis \\n angle\",\"sacral \\n slope\",\"pelvic \\n radius\",\"degree \\n spondylolisthesis\"]),fontsize=16)\n",
    "plt.yticks(fontsize=16)\n",
    "plt.savefig(\"../../figures/vertebral_boxplot1.png\",bbox_inches =\"tight\")\n",
    "plt.show()"
   ]
  },
  {
   "cell_type": "markdown",
   "metadata": {},
   "source": [
    "Contabilizando los valores atípicos y extremos."
   ]
  },
  {
   "cell_type": "code",
   "execution_count": 12,
   "metadata": {},
   "outputs": [],
   "source": [
    "vertebral_stats2=pd.DataFrame()\n",
    "vertebral_stats2.index=vertebral_stats.index\n",
    "atipicos,extremos=[],[]\n",
    "for i in vertebral_stats2.index:\n",
    "    LII=vertebral_stats[vertebral_stats.index==i][\"LII\"][0]\n",
    "    LIS=vertebral_stats[vertebral_stats.index==i][\"LIS\"][0]\n",
    "    LEI=vertebral_stats[vertebral_stats.index==i][\"LEI\"][0]\n",
    "    LES=vertebral_stats[vertebral_stats.index==i][\"LES\"][0]\n",
    "    atipicos.append(len(data[((data[i]<=LII)&(data[i]>=LIS))|((data[i]>=LIS)&(data[i]<=LES))]))\n",
    "    extremos.append(len(data[((data[i]<=LEI)|(data[i]>=LES))]))\n",
    "vertebral_stats2[\"Valores atipicos\"]=atipicos\n",
    "vertebral_stats2[\"Valores extremos\"]=extremos\n",
    "vertebral_stats2[\"Valores atipicos (%)\"]=np.round(vertebral_stats2[\"Valores atipicos\"]/len(data)*100,2)\n",
    "vertebral_stats2[\"Valores extremos (%)\"]=np.round(vertebral_stats2[\"Valores extremos\"]/len(data)*100,2)\n",
    "vertebral_stats2.loc['Total'] = vertebral_stats2.sum(axis=0)"
   ]
  },
  {
   "cell_type": "code",
   "execution_count": 13,
   "metadata": {},
   "outputs": [
    {
     "data": {
      "text/html": [
       "<div>\n",
       "<style scoped>\n",
       "    .dataframe tbody tr th:only-of-type {\n",
       "        vertical-align: middle;\n",
       "    }\n",
       "\n",
       "    .dataframe tbody tr th {\n",
       "        vertical-align: top;\n",
       "    }\n",
       "\n",
       "    .dataframe thead th {\n",
       "        text-align: right;\n",
       "    }\n",
       "</style>\n",
       "<table border=\"1\" class=\"dataframe\">\n",
       "  <thead>\n",
       "    <tr style=\"text-align: right;\">\n",
       "      <th></th>\n",
       "      <th>Valores atipicos</th>\n",
       "      <th>Valores extremos</th>\n",
       "      <th>Valores atipicos (%)</th>\n",
       "      <th>Valores extremos (%)</th>\n",
       "    </tr>\n",
       "  </thead>\n",
       "  <tbody>\n",
       "    <tr>\n",
       "      <th>pelvic_incidence</th>\n",
       "      <td>3.0</td>\n",
       "      <td>0.0</td>\n",
       "      <td>0.97</td>\n",
       "      <td>0.00</td>\n",
       "    </tr>\n",
       "    <tr>\n",
       "      <th>pelvic_tilt</th>\n",
       "      <td>12.0</td>\n",
       "      <td>0.0</td>\n",
       "      <td>3.87</td>\n",
       "      <td>0.00</td>\n",
       "    </tr>\n",
       "    <tr>\n",
       "      <th>lumbar_lordosis_angle</th>\n",
       "      <td>1.0</td>\n",
       "      <td>0.0</td>\n",
       "      <td>0.32</td>\n",
       "      <td>0.00</td>\n",
       "    </tr>\n",
       "    <tr>\n",
       "      <th>sacral_slope</th>\n",
       "      <td>0.0</td>\n",
       "      <td>1.0</td>\n",
       "      <td>0.00</td>\n",
       "      <td>0.32</td>\n",
       "    </tr>\n",
       "    <tr>\n",
       "      <th>pelvic_radius</th>\n",
       "      <td>5.0</td>\n",
       "      <td>0.0</td>\n",
       "      <td>1.61</td>\n",
       "      <td>0.00</td>\n",
       "    </tr>\n",
       "    <tr>\n",
       "      <th>degree_spondylolisthesis</th>\n",
       "      <td>9.0</td>\n",
       "      <td>1.0</td>\n",
       "      <td>2.90</td>\n",
       "      <td>0.32</td>\n",
       "    </tr>\n",
       "    <tr>\n",
       "      <th>Total</th>\n",
       "      <td>30.0</td>\n",
       "      <td>2.0</td>\n",
       "      <td>9.67</td>\n",
       "      <td>0.64</td>\n",
       "    </tr>\n",
       "  </tbody>\n",
       "</table>\n",
       "</div>"
      ],
      "text/plain": [
       "                          Valores atipicos  Valores extremos  \\\n",
       "pelvic_incidence                       3.0               0.0   \n",
       "pelvic_tilt                           12.0               0.0   \n",
       "lumbar_lordosis_angle                  1.0               0.0   \n",
       "sacral_slope                           0.0               1.0   \n",
       "pelvic_radius                          5.0               0.0   \n",
       "degree_spondylolisthesis               9.0               1.0   \n",
       "Total                                 30.0               2.0   \n",
       "\n",
       "                          Valores atipicos (%)  Valores extremos (%)  \n",
       "pelvic_incidence                          0.97                  0.00  \n",
       "pelvic_tilt                               3.87                  0.00  \n",
       "lumbar_lordosis_angle                     0.32                  0.00  \n",
       "sacral_slope                              0.00                  0.32  \n",
       "pelvic_radius                             1.61                  0.00  \n",
       "degree_spondylolisthesis                  2.90                  0.32  \n",
       "Total                                     9.67                  0.64  "
      ]
     },
     "execution_count": 13,
     "metadata": {},
     "output_type": "execute_result"
    }
   ],
   "source": [
    "vertebral_stats2"
   ]
  },
  {
   "cell_type": "markdown",
   "metadata": {},
   "source": [
    "Supongamos que emiminamos los valores atípicos de los datos, ¿cómo luciría la distribución de frecuencias de los datos?"
   ]
  },
  {
   "cell_type": "code",
   "execution_count": 14,
   "metadata": {},
   "outputs": [],
   "source": [
    "def filter_outlier(col):\n",
    "    LII=vertebral_stats[vertebral_stats.index==col][\"LII\"][0]\n",
    "    LIS=vertebral_stats[vertebral_stats.index==col][\"LIS\"][0]\n",
    "    LEI=vertebral_stats[vertebral_stats.index==col][\"LEI\"][0]\n",
    "    LES=vertebral_stats[vertebral_stats.index==col][\"LES\"][0]\n",
    "    return data[~(((data[col]<=LII)&(data[col]>=LIS))|((data[col]>=LIS)&(data[col]<=LES)))][col]"
   ]
  },
  {
   "cell_type": "code",
   "execution_count": 15,
   "metadata": {},
   "outputs": [
    {
     "data": {
      "text/plain": [
       "0      -0.25\n",
       "1       4.56\n",
       "2      -3.53\n",
       "3      11.21\n",
       "4       7.92\n",
       "       ...  \n",
       "305    -4.25\n",
       "306    -0.42\n",
       "307    -2.71\n",
       "308     0.21\n",
       "309    -0.20\n",
       "Name: degree_spondylolisthesis, Length: 301, dtype: float64"
      ]
     },
     "execution_count": 15,
     "metadata": {},
     "output_type": "execute_result"
    }
   ],
   "source": [
    "filter_outlier(\"degree_spondylolisthesis\")"
   ]
  },
  {
   "cell_type": "code",
   "execution_count": 16,
   "metadata": {},
   "outputs": [
    {
     "data": {
      "image/png": "[encoded data removed]",
      "text/plain": [
       "<Figure size 1152x432 with 2 Axes>"
      ]
     },
     "metadata": {
      "needs_background": "light"
     },
     "output_type": "display_data"
    }
   ],
   "source": [
    "plt.figure(figsize=(16,6))\n",
    "plt.subplot(121)\n",
    "plt.hist(filter_outlier(\"pelvic_tilt\"),label=\"pelvic_incidence (Outliers removed) ({} rows)\".format(len(filter_outlier(\"pelvic_tilt\"))),alpha=0.7,color='b')\n",
    "plt.hist(data[\"pelvic_tilt\"],label=\"pelvic_incidence (All data) ({} rows)\".format(len(data)),alpha=0.7,color='r')\n",
    "plt.legend(title=\"Absolute distribution\",fontsize=14)\n",
    "plt.ylabel(\"Counts\",fontsize=14)\n",
    "plt.xticks(fontsize=14)\n",
    "plt.yticks(fontsize=14)\n",
    "plt.subplot(122)\n",
    "plt.hist(filter_outlier(\"pelvic_tilt\"),label=\"pelvic_incidence (Outliers removed) ({} rows)\".format(len(filter_outlier(\"pelvic_tilt\"))),alpha=0.7,cumulative=True,color='b')\n",
    "plt.hist(data[\"pelvic_tilt\"],label=\"pelvic_incidence (All data) ({} rows)\".format(len(data)),alpha=0.7,cumulative=True,color='r')\n",
    "plt.legend(title=\"Cumulative distribution\",fontsize=14)\n",
    "plt.ylabel(\"Counts\",fontsize=14)\n",
    "plt.xticks(fontsize=14)\n",
    "plt.yticks(fontsize=14)\n",
    "plt.savefig(\"../../figures/vertebral_hist2.png\",bbox_inches =\"tight\")\n",
    "plt.show()"
   ]
  },
  {
   "cell_type": "markdown",
   "metadata": {},
   "source": [
    "## Criterio de Chauvenet\n",
    "Una manera de identificar datos extremos y con la idea de eliminarlos, es usar el criterio de Chauvenet, el cual se basa en la idea de encontrar una banda de probabilidad, centrada en la media de una distribución normal, que debería contener razonablemente todas las $n$ muestras de un conjunto de datos. De este modo, los puntos de datos de las $n$ muestras que se encuentran fuera de esta banda de probabilidad pueden considerarse valores atípicos, eliminarse del conjunto de datos y calcularse una nueva media y desviación típica basadas en los valores restantes y el nuevo tamaño de la muestra. Esta identificación de los valores atípicos se logra encontrando el número de desviaciones estándar que corresponden a los límites de la banda de probabilidad alrededor de la media ($D_{max}$) y comparando ese valor con el valor absoluto de la diferencia entre los presuntos valores atípicos y la media dividido por la desviación estándar\n",
    "\\begin{equation}\n",
    "D_{max} \\leq \\frac{|x-\\bar x|}{s_x},\n",
    "\\label{chauvenet1}\n",
    "\\end{equation}\n",
    "donde $D_{max}$ es la desviación máxima permitida, $|\\cdot |$ es el valor absoluto, $x$ es el valor del presunto valor atípico, $\\bar x$ es la media de la muestra, y $s_x$ es la desviación estándar de la muestra.\n",
    "\n",
    "Para que se considere que se incluyen todas las $n$ observaciones de la muestra, la banda de probabilidad (centrada en la media) sólo debe tener en cuenta $n-1/2$ muestras (si $n=3$ entonces sólo 2.5 de las muestras deben tenerse en cuenta en la banda de probabilidad). En resumen, estamos buscando la probabilidad, $P$, que es igual a $n-1/2$ de $n$ muestras\n",
    "\\begin{equation}\n",
    "P=\\frac{n-1/2}{n}=1-\\frac{1}{2n},\n",
    "\\end{equation}\n",
    "donde, $P$ es la banda de probabilidad centrada en la media de la muestra y $n$ es el tamaño de la muestra.\n",
    "\n",
    "La cantidad $1/(2n)$ corresponde a la probabilidad combinada representada por las dos colas de la distribución normal que caen fuera de la banda de probabilidad $P$. Para encontrar el nivel de desviación estándar asociado a $P$, sólo es necesario analizar la probabilidad de una de las colas de la distribución normal debido a su simetría $P_z=1(4n)$, donde $P_z$ es la probabilidad representada por una cola de la distribución normal y $n$ es el tamaño de la muestra.\n",
    "\n",
    "La ecuación \\ref{chauvenet1} es análoga a la ecuación de puntuación $Z$ para una distribución normal\n",
    "\\begin{equation}\n",
    "Z=\\frac{x-\\mu}{\\sigma},\n",
    "\\label{normal1}\n",
    "\\end{equation}\n",
    "donde, $Z$ es el valor $Z$ de la distribución normal, $x$ es el valor de la muestra, $\\mu$ es la media de la distribución normal estándar, y $\\sigma=1$ es la desviación estándar de la distribución normal estándar.\n",
    "\n",
    "Basado en la Ecuación \\ref{normal1}, para encontrar el $D_{max}$ debemos encontrar la puntuación $Z$ correspondiente a $P_z$ en una tabla de puntuación de una distribución normal. $D_{max}$ es igual a la puntuación de $P_z$. Usando este método $D_{max}$ puede determinarse para cualquier tamaño de muestra. \n",
    "\n",
    "Para aplicar el criterio de Chauvenet, primero hay que calcular la media y la desviación estándar de los datos observados. En función de la diferencia entre el dato sospechoso y la media, utilice la función de distribución normal (o una tabla de la misma) para determinar la probabilidad de que un punto de datos dado se encuentre en el valor del punto de datos sospechoso. Multiplique esta probabilidad por el número de puntos de datos tomados. Si el resultado es inferior a 0.5, el punto de datos sospechoso puede ser descartado, es decir, una lectura puede ser rechazada si la probabilidad de obtener la desviación particular de la media es inferior a $\\frac{1}{2n}$.\n",
    "\n",
    "Veamos esto de manera sencilla para el conjunto de datos 'Vertebral Column' y además sólo para la variable 'pelvic_tilt' en la que recordemos habíamos conseguido 12 valores atípicos."
   ]
  },
  {
   "cell_type": "code",
   "execution_count": 17,
   "metadata": {},
   "outputs": [
    {
     "name": "stdout",
     "output_type": "stream",
     "text": [
      "La media es = 17.542903225806448\n",
      "La desviación estándar es = 10.008140050586714\n"
     ]
    }
   ],
   "source": [
    "print(\"La media es =\",data[\"pelvic_tilt\"].mean())\n",
    "print(\"La desviación estándar es =\",data[\"pelvic_tilt\"].std())\n",
    "# El z-score para todos los datos es:\n",
    "Z=abs(data[\"pelvic_tilt\"]-data[\"pelvic_tilt\"].mean())/data[\"pelvic_tilt\"].std()"
   ]
  },
  {
   "cell_type": "code",
   "execution_count": 18,
   "metadata": {},
   "outputs": [
    {
     "data": {
      "text/plain": [
       "0      0.500302\n",
       "1      0.747682\n",
       "2      0.467329\n",
       "3      0.710132\n",
       "4      0.788648\n",
       "         ...   \n",
       "305    0.391971\n",
       "306    0.317451\n",
       "307    0.514291\n",
       "308    0.884570\n",
       "309    1.246276\n",
       "Name: pelvic_tilt, Length: 310, dtype: float64"
      ]
     },
     "execution_count": 18,
     "metadata": {},
     "output_type": "execute_result"
    }
   ],
   "source": [
    "Z"
   ]
  },
  {
   "cell_type": "code",
   "execution_count": 19,
   "metadata": {},
   "outputs": [
    {
     "name": "stdout",
     "output_type": "stream",
     "text": [
      "Z_score es = 3.1535631591215094 para n=310 observaciones con una probabilidad de P_Z=1-(1((4*n))) = 0.9991935483870967\n"
     ]
    }
   ],
   "source": [
    "import scipy.stats as st\n",
    "n=len(data[\"pelvic_tilt\"])\n",
    "PZ=1-(1/(4*n))\n",
    "Z_score=st.norm.ppf(PZ)\n",
    "print(\"Z_score es = {} para n={} observaciones con una probabilidad de P_Z=1-(1((4*n))) = {}\".format(Z_score,len(data[\"pelvic_tilt\"]),PZ))"
   ]
  },
  {
   "cell_type": "markdown",
   "metadata": {},
   "source": [
    "Luego veamos cuales Z están por encima del valor Z-score de la distribución normal."
   ]
  },
  {
   "cell_type": "code",
   "execution_count": 20,
   "metadata": {},
   "outputs": [
    {
     "data": {
      "text/plain": [
       "179    3.186116\n",
       "Name: pelvic_tilt, dtype: float64"
      ]
     },
     "execution_count": 20,
     "metadata": {},
     "output_type": "execute_result"
    }
   ],
   "source": [
    "Z[Z>=Z_score]"
   ]
  },
  {
   "cell_type": "code",
   "execution_count": 21,
   "metadata": {},
   "outputs": [
    {
     "data": {
      "text/plain": [
       "0.9916666666666667"
      ]
     },
     "execution_count": 21,
     "metadata": {},
     "output_type": "execute_result"
    }
   ],
   "source": [
    "1-(1/(4*30))"
   ]
  },
  {
   "cell_type": "code",
   "execution_count": 22,
   "metadata": {},
   "outputs": [
    {
     "name": "stderr",
     "output_type": "stream",
     "text": [
      "No handles with labels found to put in legend.\n"
     ]
    },
    {
     "data": {
      "image/png": "[encoded data removed]",
      "text/plain": [
       "<Figure size 1152x432 with 2 Axes>"
      ]
     },
     "metadata": {
      "needs_background": "light"
     },
     "output_type": "display_data"
    }
   ],
   "source": [
    "plt.figure(figsize=(16,6))\n",
    "plt.subplot(121)\n",
    "#plt.hist(filter_outlier(\"pelvic_tilt\"),label=\"pelvic_incidence (Outliers removed) ({} rows)\".format(len(filter_outlier(\"pelvic_tilt\"))),alpha=0.7,color='b')\n",
    "plt.scatter(data[\"pelvic_tilt\"],Z,label=\"data\",alpha=0.99,color='b')\n",
    "plt.scatter(data[\"pelvic_tilt\"].iloc[179],Z.iloc[179],label=\"outlier (Chauvenet's criterion)\",alpha=0.5,color='r',s=150,edgecolors='face',facecolor=None)\n",
    "plt.text(data[\"pelvic_tilt\"].iloc[179]-7,Z.iloc[179],str(data[\"pelvic_tilt\"].iloc[179]),fontsize=14)\n",
    "plt.legend(fontsize=14)\n",
    "plt.xlabel(\"pelvic_incidence\",fontsize=14)\n",
    "plt.ylabel(\"Z_score\",fontsize=14)\n",
    "plt.xticks(fontsize=14)\n",
    "plt.yticks(fontsize=14)\n",
    "plt.subplot(122)\n",
    "hist=plt.hist(data[\"pelvic_tilt\"],alpha=0.7,color='b',density=True)\n",
    "plt.vlines(data[\"pelvic_tilt\"].iloc[179],0,hist[0].max()/2,alpha=0.99,color='r')\n",
    "plt.text(data[\"pelvic_tilt\"].iloc[179]-7,hist[0].max()/2,str(data[\"pelvic_tilt\"].iloc[179]),fontsize=14)\n",
    "#plt.scatter(data[\"pelvic_tilt\"].iloc[179],Z.iloc[179],label=\"outlier (Chauvenet's criterion)\",alpha=0.5,color='r',s=150,edgecolors='face',facecolor=None)\n",
    "#plt.text(data[\"pelvic_tilt\"].iloc[179]-7,Z.iloc[179],str(data[\"pelvic_tilt\"].iloc[179]),fontsize=14)\n",
    "plt.legend(fontsize=14)\n",
    "plt.xlabel(\"pelvic_incidence\",fontsize=14)\n",
    "plt.ylabel(\"Density counts\",fontsize=14)\n",
    "plt.xticks(fontsize=14)\n",
    "plt.yticks(fontsize=14)\n",
    "plt.savefig(\"../../figures/vertebral_hist3.png\",bbox_inches =\"tight\")\n",
    "plt.show()"
   ]
  },
  {
   "cell_type": "markdown",
   "metadata": {},
   "source": [
    "## Prueba de Grubbs\n",
    "\n",
    "El test de Grubbs (llamado así por Frank E. Grubbs, que publicó el test en 1950), también conocido como test del residuo máximo normalizado o test de la desviación estudiantil extrema, es un test utilizado para detectar valores atípicos en un conjunto de datos univariantes que se supone que provienen de una población normalmente distribuida.\n",
    "\n",
    "La prueba de Grubbs se basa en el supuesto de normalidad. Es decir, antes de aplicar la prueba de Grubbs se debe verificar que los datos pueden ser razonablemente aproximados por una distribución normal.\n",
    "\n",
    "La prueba de Grubbs detecta un valor atípico cada vez. Este valor atípico se elimina del conjunto de datos y la prueba se repite hasta que no se detectan valores atípicos. Sin embargo, las iteraciones múltiples cambian las probabilidades de detección, y la prueba no debería utilizarse para tamaños de muestra de seis o menos, ya que suele marcar la mayoría de los puntos como valores atípicos.\n",
    "\n",
    "La prueba es muy parecida a la de Chauvenet como en la sección anterior pero usa una nueva distribución y además un ligero cambio en el estadístico de prueba. El estadístico de la prueba de Grubbs se define como: \n",
    "\\begin{equation}\n",
    "G_{max}=\\frac{\\mbox{max}_{i=1}^N|x-\\bar x|}{s_x},\n",
    "\\end{equation}\n",
    "donde $G_{max}$ es la desviación máxima permitida, $|\\cdot |$ es el valor absoluto, $x$ es el valor del presunto valor atípico, $\\bar x$ es la media de la muestra, y $s_x$ es la desviación estándar de la muestra.\n",
    "\n",
    "Entonces se propone una prueba estadística de hipótesis de dos caras, para la que se rechaza la hipótesis de ausencia de valores atípicos al nivel de significación $\\alpha$ si \n",
    "\\begin{equation}\n",
    "G_{max}>\\frac{N-1}{N}\\sqrt{\\frac{t^2_{\\alpha/(2N),N-2}}{N-2+t^2_{\\alpha/(2N),N-2}}},\n",
    "\\end{equation}\n",
    "con $t^2_{\\alpha/(2N),N-2}$ denotando el valor crítico superior de la distribución $t$ con $N-2$ grados de libertad y un nivel de significación de $\\alpha/(2N)$. \n",
    "\n",
    "Veamos esto de manera sencilla para el conjunto de datos ``Vertebral Column'' y además sólo para la variable ``pelvic\\_tilt'' en la que recordemos habíamos conseguido 12 valores atípicos. En este caso, el promedio y la desviación estándar son 17.5429 y 10.0081, respectivamente, por tanto podemos calcular el valor $G_{max}$ para cada uno de los 310 datos de la muestra. Además podemos calcular el valor t de la distribución t-Student para una significancia de $\\alpha=0.05$ y 310-2=308 grados de libertad. \n"
   ]
  },
  {
   "cell_type": "code",
   "execution_count": 23,
   "metadata": {},
   "outputs": [
    {
     "name": "stdout",
     "output_type": "stream",
     "text": [
      "t_test es = 2.4469118487916806 para n=310 observaciones con una significancia de 0.05\n"
     ]
    }
   ],
   "source": [
    "alpha = 0.05\n",
    "cv = st.t.ppf(1-alpha/2, 6)\n",
    "print(\"t_test es = {} para n={} observaciones con una significancia de {}\".format(cv,len(data[\"pelvic_tilt\"]),alpha))"
   ]
  },
  {
   "cell_type": "code",
   "execution_count": 24,
   "metadata": {},
   "outputs": [
    {
     "name": "stdout",
     "output_type": "stream",
     "text": [
      "La media es = 17.542903225806448\n",
      "La desviación estándar es = 10.008140050586714\n"
     ]
    }
   ],
   "source": [
    "print(\"La media es =\",data[\"pelvic_tilt\"].mean())\n",
    "print(\"La desviación estándar es =\",data[\"pelvic_tilt\"].std())\n",
    "# El z-score para todos los datos es:\n",
    "G=np.max(abs(data[\"pelvic_tilt\"]-data[\"pelvic_tilt\"].mean())/data[\"pelvic_tilt\"].std())"
   ]
  },
  {
   "cell_type": "code",
   "execution_count": 25,
   "metadata": {},
   "outputs": [
    {
     "data": {
      "text/plain": [
       "179    3.186116\n",
       "Name: pelvic_tilt, dtype: float64"
      ]
     },
     "execution_count": 25,
     "metadata": {},
     "output_type": "execute_result"
    }
   ],
   "source": [
    "Gi=abs(data[\"pelvic_tilt\"]-data[\"pelvic_tilt\"].mean())/data[\"pelvic_tilt\"].std()\n",
    "Gi[Gi==Gi.max()]"
   ]
  },
  {
   "cell_type": "code",
   "execution_count": 26,
   "metadata": {},
   "outputs": [
    {
     "name": "stdout",
     "output_type": "stream",
     "text": [
      "El estadístico de prueba es 3.186116162745366 o sea el dato de la fila 179    3.186116\n",
      "Name: pelvic_tilt, dtype: float64\n"
     ]
    }
   ],
   "source": [
    "print(\"El estadístico de prueba es\",Gi.max(), \"o sea el dato de la fila\", Gi[Gi==Gi.max()])"
   ]
  },
  {
   "cell_type": "code",
   "execution_count": 27,
   "metadata": {},
   "outputs": [
    {
     "name": "stdout",
     "output_type": "stream",
     "text": [
      "El valor es un extremo\n"
     ]
    }
   ],
   "source": [
    "if G>cv:\n",
    "    print(\"El valor es un extremo\")\n",
    "if G<=cv:\n",
    "    print(\"El valor NO es un extremo\")"
   ]
  },
  {
   "cell_type": "code",
   "execution_count": null,
   "metadata": {},
   "outputs": [],
   "source": []
  }
 ],
 "metadata": {
  "kernelspec": {
   "display_name": "Python 3",
   "language": "python",
   "name": "python3"
  },
  "language_info": {
   "codemirror_mode": {
    "name": "ipython",
    "version": 3
   },
   "file_extension": ".py",
   "mimetype": "text/x-python",
   "name": "python",
   "nbconvert_exporter": "python",
   "pygments_lexer": "ipython3",
   "version": "3.8.10"
  }
 },
 "nbformat": 4,
 "nbformat_minor": 4
}
